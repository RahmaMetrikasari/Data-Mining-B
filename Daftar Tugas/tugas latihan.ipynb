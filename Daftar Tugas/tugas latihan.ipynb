{
 "cells": [
  {
   "cell_type": "markdown",
   "metadata": {},
   "source": [
    "# Tugas Latihan Phyton"
   ]
  },
  {
   "cell_type": "markdown",
   "metadata": {},
   "source": [
    "Nama : Rahma Metrikasari\n",
    "Nrp  : 06211640000054"
   ]
  },
  {
   "cell_type": "code",
   "execution_count": 64,
   "metadata": {},
   "outputs": [],
   "source": [
    "#mengimport pandas dan numpy\n",
    "\n",
    "import pandas as pd\n",
    "import numpy as np\n",
    "import matplotlib.pyplot as plt"
   ]
  },
  {
   "cell_type": "code",
   "execution_count": 37,
   "metadata": {},
   "outputs": [
    {
     "name": "stdout",
     "output_type": "stream",
     "text": [
      "     Tanggal Kode Transaksi Paket Cuci Nama Pelanggan        No Hp  \\\n",
      "0 2018-01-09             CK     Kilat          Ardina  81234432116   \n",
      "1 2018-01-10             CM    Express          Diego  82240150667   \n",
      "2 2018-01-11              S      Biasa          Fajar  83898765421   \n",
      "3 2018-01-12             CK      Biasa           Bayu  82118976543   \n",
      "4 2018-01-13             PL     Kilat          Caraka  89678543212   \n",
      "5 2018-01-14             PL     Kilat            Yoga  81234876543   \n",
      "6 2018-01-15              S      Biasa        Gathfan  87789654390   \n",
      "7 2018-01-16             CM      Biasa          Diana  82243516789   \n",
      "8 2018-01-17             CK      Biasa          Azura  82245519807   \n",
      "\n",
      "         Tempat Diantar  Harga Per Kg Delivery  \n",
      "0   Keputih Gang Makam           5000       Ya  \n",
      "1  Asrama Mahasiswa ITS          5000    Tidak  \n",
      "2       Keputih Gang 3C          4000    Tidak  \n",
      "3  Arif Rahman Hakim 48          5000    Tidak  \n",
      "4             Mulyosari          9000       Ya  \n",
      "5             Mulyorejo          9000       Ya  \n",
      "6          Gebang Wetan          4000    Tidak  \n",
      "7          Gebang Putih          3000    Tidak  \n",
      "8            Semolowaru          4000       Ya  \n",
      "  Nama Pelanggan  Berat Cucian (Kg)  Diskon Penerima Barang  Ongkos Kirim\n",
      "0         Ardina                5.0    4000            Yeni          4000\n",
      "1          Diego                3.0    2000            Tuti             0\n",
      "2          Fajar                6.0    3000            Agus             0\n",
      "3           Bayu               10.0    5000            Tuti             0\n",
      "4         Caraka                5.0    2000            Tuti         12000\n",
      "5           Yoga                3.0    2000            Yeni         14000\n",
      "6        Gathfan                5.0    3000            Agus             0\n",
      "7          Diana                7.0    5000            Agus             0\n",
      "8          Azura                5.5    3000            Yeni         15000\n"
     ]
    }
   ],
   "source": [
    "#memanggil data\n",
    "\n",
    "data = pd.read_excel('data_1.xlsx')\n",
    "data1 = pd.read_excel('data_11.xlsx')\n",
    "\n",
    "#memunculkan data \n",
    "print(data)\n",
    "print(data1)\n",
    "\n",
    "#menggabungkan dua data frame menjadi satu berdasarkan variabel tertentu menjadi data frame baru\n",
    "data_gab = pd.merge(data,data1,on = 'Nama Pelanggan')"
   ]
  },
  {
   "cell_type": "code",
   "execution_count": 38,
   "metadata": {},
   "outputs": [
    {
     "name": "stdout",
     "output_type": "stream",
     "text": [
      "     Tanggal Kode Transaksi Paket Cuci Nama Pelanggan        No Hp  \\\n",
      "0 2018-01-09             CK     Kilat          Ardina  81234432116   \n",
      "1 2018-01-10             CM    Express          Diego  82240150667   \n",
      "2 2018-01-11              S      Biasa          Fajar  83898765421   \n",
      "3 2018-01-12             CK      Biasa           Bayu  82118976543   \n",
      "4 2018-01-13             PL     Kilat          Caraka  89678543212   \n",
      "5 2018-01-14             PL     Kilat            Yoga  81234876543   \n",
      "6 2018-01-15              S      Biasa        Gathfan  87789654390   \n",
      "7 2018-01-16             CM      Biasa          Diana  82243516789   \n",
      "8 2018-01-17             CK      Biasa          Azura  82245519807   \n",
      "\n",
      "         Tempat Diantar  Harga Per Kg Delivery  Berat Cucian (Kg)  Diskon  \\\n",
      "0   Keputih Gang Makam           5000       Ya                5.0    4000   \n",
      "1  Asrama Mahasiswa ITS          5000    Tidak                3.0    2000   \n",
      "2       Keputih Gang 3C          4000    Tidak                6.0    3000   \n",
      "3  Arif Rahman Hakim 48          5000    Tidak               10.0    5000   \n",
      "4             Mulyosari          9000       Ya                5.0    2000   \n",
      "5             Mulyorejo          9000       Ya                3.0    2000   \n",
      "6          Gebang Wetan          4000    Tidak                5.0    3000   \n",
      "7          Gebang Putih          3000    Tidak                7.0    5000   \n",
      "8            Semolowaru          4000       Ya                5.5    3000   \n",
      "\n",
      "  Penerima Barang  Ongkos Kirim  Total Biaya  \n",
      "0            Yeni          4000      25000.0  \n",
      "1            Tuti             0      13000.0  \n",
      "2            Agus             0      21000.0  \n",
      "3            Tuti             0      45000.0  \n",
      "4            Tuti         12000      55000.0  \n",
      "5            Yeni         14000      39000.0  \n",
      "6            Agus             0      17000.0  \n",
      "7            Agus             0      16000.0  \n",
      "8            Yeni         15000      34000.0  \n"
     ]
    }
   ],
   "source": [
    "#menambahkan kolom baru berisi total biaya\n",
    "\n",
    "data_gab['Total Biaya']=(data_gab['Harga Per Kg']*data_gab['Berat Cucian (Kg)']+data_gab['Ongkos Kirim']-data_gab['Diskon'])\n",
    "\n",
    "#menami[ilkan output data_gab baru\n",
    "\n",
    "print(data_gab)"
   ]
  },
  {
   "cell_type": "code",
   "execution_count": 42,
   "metadata": {},
   "outputs": [
    {
     "name": "stdout",
     "output_type": "stream",
     "text": [
      "     Tanggal Kode Transaksi Paket Cuci Nama Pelanggan        No Hp  \\\n",
      "0 2018-01-09             CK     Kilat          Ardina  81234432116   \n",
      "1 2018-01-10             CM    Express          Diego  82240150667   \n",
      "2 2018-01-11              S      Biasa          Fajar  83898765421   \n",
      "3 2018-01-12             CK      Biasa           Bayu  82118976543   \n",
      "4 2018-01-13             PL     Kilat          Caraka  89678543212   \n",
      "5 2018-01-14             PL     Kilat            Yoga  81234876543   \n",
      "6 2018-01-15              S      Biasa        Gathfan  87789654390   \n",
      "7 2018-01-16             CM      Biasa          Diana  82243516789   \n",
      "8 2018-01-17             CK      Biasa          Azura  82245519807   \n",
      "\n",
      "         Tempat Diantar  Harga Per Kg Delivery  Berat Cucian (Kg)  Diskon  \\\n",
      "0   Keputih Gang Makam           5000       Ya                5.0    4000   \n",
      "1  Asrama Mahasiswa ITS          5000    Tidak                3.0    2000   \n",
      "2       Keputih Gang 3C          4000    Tidak                6.0    3000   \n",
      "3  Arif Rahman Hakim 48          5000    Tidak               10.0    5000   \n",
      "4             Mulyosari          9000       Ya                5.0    2000   \n",
      "5             Mulyorejo          9000       Ya                3.0    2000   \n",
      "6          Gebang Wetan          4000    Tidak                5.0    3000   \n",
      "7          Gebang Putih          3000    Tidak                7.0    5000   \n",
      "8            Semolowaru          4000       Ya                5.5    3000   \n",
      "\n",
      "  Penerima Barang  Ongkos Kirim  Total Biaya                Hadiah  \n",
      "0            Yeni          4000      25000.0   Voucher Loundry 10K  \n",
      "1            Tuti             0      13000.0  Tingkatkan Transaksi  \n",
      "2            Agus             0      21000.0  Tingkatkan Transaksi  \n",
      "3            Tuti             0      45000.0   Voucher Loundry 10K  \n",
      "4            Tuti         12000      55000.0   Voucher Loundry 10K  \n",
      "5            Yeni         14000      39000.0   Voucher Loundry 10K  \n",
      "6            Agus             0      17000.0  Tingkatkan Transaksi  \n",
      "7            Agus             0      16000.0  Tingkatkan Transaksi  \n",
      "8            Yeni         15000      34000.0   Voucher Loundry 10K  \n"
     ]
    }
   ],
   "source": [
    "data_gab['Hadiah']=np.where(data_gab['Total Biaya']>=25000,\"Voucher Loundry 10K\",\"Tingkatkan Transaksi\")\n",
    "print(data_gab)"
   ]
  },
  {
   "cell_type": "code",
   "execution_count": 63,
   "metadata": {},
   "outputs": [
    {
     "name": "stdout",
     "output_type": "stream",
     "text": [
      "     Tanggal Kode Transaksi Paket Cuci Nama Pelanggan        No Hp  \\\n",
      "1 2018-01-10             CM    Express          Diego  82240150667   \n",
      "2 2018-01-11              S      Biasa          Fajar  83898765421   \n",
      "3 2018-01-12             CK      Biasa           Bayu  82118976543   \n",
      "4 2018-01-13             PL     Kilat          Caraka  89678543212   \n",
      "5 2018-01-14             PL     Kilat            Yoga  81234876543   \n",
      "6 2018-01-15              S      Biasa        Gathfan  87789654390   \n",
      "7 2018-01-16             CM      Biasa          Diana  82243516789   \n",
      "8 2018-01-17             CK      Biasa          Azura  82245519807   \n",
      "\n",
      "         Tempat Diantar  Harga Per Kg Delivery  Berat Cucian (Kg)  Diskon  \\\n",
      "1  Asrama Mahasiswa ITS          5000    Tidak                3.0    2000   \n",
      "2       Keputih Gang 3C          4000    Tidak                6.0    3000   \n",
      "3  Arif Rahman Hakim 48          5000    Tidak               10.0    5000   \n",
      "4             Mulyosari          9000       Ya                5.0    2000   \n",
      "5             Mulyorejo          9000       Ya                3.0    2000   \n",
      "6          Gebang Wetan          4000    Tidak                5.0    3000   \n",
      "7          Gebang Putih          3000    Tidak                7.0    5000   \n",
      "8            Semolowaru          4000       Ya                5.5    3000   \n",
      "\n",
      "  Penerima Barang  Ongkos Kirim  Total Biaya                Hadiah  \n",
      "1            Tuti             0      13000.0  Tingkatkan Transaksi  \n",
      "2            Agus             0      21000.0  Tingkatkan Transaksi  \n",
      "3            Tuti             0      45000.0   Voucher Loundry 10K  \n",
      "4            Tuti         12000      55000.0   Voucher Loundry 10K  \n",
      "5            Yeni         14000      39000.0   Voucher Loundry 10K  \n",
      "6            Agus             0      17000.0  Tingkatkan Transaksi  \n",
      "7            Agus             0      16000.0  Tingkatkan Transaksi  \n",
      "8            Yeni         15000      34000.0   Voucher Loundry 10K  \n",
      "  Kode Transaksi Paket Cuci Nama Pelanggan        No Hp        Tempat Diantar  \\\n",
      "0             CK     Kilat          Ardina  81234432116   Keputih Gang Makam    \n",
      "1             CM    Express          Diego  82240150667  Asrama Mahasiswa ITS   \n",
      "2              S      Biasa          Fajar  83898765421       Keputih Gang 3C   \n",
      "3             CK      Biasa           Bayu  82118976543  Arif Rahman Hakim 48   \n",
      "4             PL     Kilat          Caraka  89678543212             Mulyosari   \n",
      "5             PL     Kilat            Yoga  81234876543             Mulyorejo   \n",
      "6              S      Biasa        Gathfan  87789654390          Gebang Wetan   \n",
      "7             CM      Biasa          Diana  82243516789          Gebang Putih   \n",
      "8             CK      Biasa          Azura  82245519807            Semolowaru   \n",
      "\n",
      "   Harga Per Kg Delivery  Berat Cucian (Kg)  Diskon Penerima Barang  \\\n",
      "0          5000       Ya                5.0    4000            Yeni   \n",
      "1          5000    Tidak                3.0    2000            Tuti   \n",
      "2          4000    Tidak                6.0    3000            Agus   \n",
      "3          5000    Tidak               10.0    5000            Tuti   \n",
      "4          9000       Ya                5.0    2000            Tuti   \n",
      "5          9000       Ya                3.0    2000            Yeni   \n",
      "6          4000    Tidak                5.0    3000            Agus   \n",
      "7          3000    Tidak                7.0    5000            Agus   \n",
      "8          4000       Ya                5.5    3000            Yeni   \n",
      "\n",
      "   Ongkos Kirim  Total Biaya                Hadiah  \n",
      "0          4000      25000.0   Voucher Loundry 10K  \n",
      "1             0      13000.0  Tingkatkan Transaksi  \n",
      "2             0      21000.0  Tingkatkan Transaksi  \n",
      "3             0      45000.0   Voucher Loundry 10K  \n",
      "4         12000      55000.0   Voucher Loundry 10K  \n",
      "5         14000      39000.0   Voucher Loundry 10K  \n",
      "6             0      17000.0  Tingkatkan Transaksi  \n",
      "7             0      16000.0  Tingkatkan Transaksi  \n",
      "8         15000      34000.0   Voucher Loundry 10K  \n"
     ]
    }
   ],
   "source": [
    "#menghapus bagian tertentu\n",
    "\n",
    "datag = data_gab.drop(index=0)\n",
    "print(datag)\n",
    "datag1 = data_gab.drop(['Tanggal'],axis=1)\n",
    "print(datag1)"
   ]
  },
  {
   "cell_type": "code",
   "execution_count": 84,
   "metadata": {},
   "outputs": [
    {
     "name": "stdout",
     "output_type": "stream",
     "text": [
      "rata-rata Pendapatan =  29444.444444444445\n",
      "rata-rata Berat Cucian (Kg) =  2.1213203435596424\n",
      "standar deviasi Pendapatan =  14595.471139287616\n",
      "standar deviasi Berat Cucian (Kg) =  2.1213203435596424\n"
     ]
    },
    {
     "data": {
      "text/plain": [
       "<function matplotlib.pyplot.show(*args, **kw)>"
      ]
     },
     "execution_count": 84,
     "metadata": {},
     "output_type": "execute_result"
    },
    {
     "data": {
      "image/png": "[encoded data removed]",
      "text/plain": [
       "<Figure size 432x288 with 2 Axes>"
      ]
     },
     "metadata": {
      "needs_background": "light"
     },
     "output_type": "display_data"
    }
   ],
   "source": [
    "#mengeksploretabel\n",
    "\n",
    "#menghitung statistika deskriptif \n",
    "\n",
    "rata1 = data_gab.loc[:,'Total Biaya'].mean()\n",
    "rata2 = data_gab.loc[:,'Berat Cucian (Kg)'].mean()\n",
    "std1 = data_gab.loc[:,'Total Biaya'].std()\n",
    "std2 = rata2 = data_gab.loc[:,'Berat Cucian (Kg)'].std()\n",
    "\n",
    "print('rata-rata Pendapatan = ',rata1)\n",
    "print('rata-rata Berat Cucian (Kg) = ',rata2)\n",
    "print('standar deviasi Pendapatan = ',std1)\n",
    "print('standar deviasi Berat Cucian (Kg) = ',std2)\n",
    "\n",
    "#membuat plot berdasarkan nilai pada tabel\n",
    "y = data_gab['Total Biaya']\n",
    "x = data_gab['Berat Cucian (Kg)']\n",
    "\n",
    "plt.scatter(x,y,c=x,cmap='viridis')\n",
    "plt.colorbar()\n",
    "plt.show\n",
    "\n",
    "\n"
   ]
  },
  {
   "cell_type": "code",
   "execution_count": null,
   "metadata": {},
   "outputs": [],
   "source": []
  }
 ],
 "metadata": {
  "kernelspec": {
   "display_name": "Python 3",
   "language": "python",
   "name": "python3"
  },
  "language_info": {
   "codemirror_mode": {
    "name": "ipython",
    "version": 3
   },
   "file_extension": ".py",
   "mimetype": "text/x-python",
   "name": "python",
   "nbconvert_exporter": "python",
   "pygments_lexer": "ipython3",
   "version": "3.7.1"
  }
 },
 "nbformat": 4,
 "nbformat_minor": 2
}
